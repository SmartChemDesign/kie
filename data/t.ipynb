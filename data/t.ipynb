{
 "cells": [
  {
   "cell_type": "code",
   "execution_count": 9,
   "metadata": {},
   "outputs": [
    {
     "name": "stdout",
     "output_type": "stream",
     "text": [
      "['2.xyz', 'benzene_br.sh', 'c6h5chno2ch3_piperazine', 'c6h5chno2ch3_piperazine.sh', 'c6h5chno2ch3_piperidine', 'c6h5chno2ch3_piperidine.sh', 'CH2CHCH2NO2_lutidine', 'CH2CHCH2NO2_lutidine.sh', 'CH2CHCH2NO2_picoline_from_lutidine', 'CH2CHCH2NO2_picoline_from_lutidine.sh', 'CH2CHCH2NO2_pyridine', 'CH2CHCH2NO2_pyridine.sh', 'ch32chno2_26lutidine_new.sh', 'CH32CHNO2_ch3coo_near_freez.sh', 'ch32chno2_ch3coo_new', 'ch32chno2_ch3coo_new.sh', 'ch32chno2_oh_new.sh', 'CH32CHNO2_pyridine.sh', 'ch32chno2_pyridine_new', 'ch32chno2_pyridine_new.sh', 'ch3ch2no2_oh_new.sh', 'CH3NO2_ch2clcoo_near_freez', 'CH3NO2_ch2clcoo_near_freez.sh', 'CH3NO2_ch3coo_near.sh', 'CH3NO2_ch3coo_near_freez.sh', 'ch3no2_ch3coo_new', 'ch3no2_ch3coo_new.sh', 'ch3no2_chcoo_new.sh', 'CH3NO2_H2O_near', 'CH3NO2_H2O_near.sh', 'ch3no2_oh', 'ch3no2_oh.sh', 'ch4_oh', 'ch4_oh — копия', 'ch4_oh.sh', 'ch4_oh_end.xyz', 'ch4_oh_shag2_prez.xyz', 'ch4_oh_ts.xyz', 'm,m-o2n2c6h4chno2ch3_oh', 'm,m-o2n2c6h4chno2ch3_oh.sh', 'm-clc6h4chno2ch3_oh', 'm-clc6h4chno2ch3_oh.sh', 'm-clc6h4chno2ch3_piperidine', 'm-clc6h4chno2ch3_piperidine.sh', 'm-o2nc6h4chno2ch3_oh', 'm-o2nc6h4chno2ch3_oh.sh', 'm-o2nc6h4chno2ch3_piperazine', 'm-o2nc6h4chno2ch3_piperazine.sh', 'm-o2nc6h4chno2ch3_piperidine', 'm-o2nc6h4chno2ch3_piperidine.sh', 'mcl-morpholine', 'mcl-morpholine.sh', 'nitrocyclohexane_oh_new.sh', 'n_1nitro1phenylethan_etoh.sh', 'n_1nitro1phenylethan_oh.sh', 'n_1nitro1phenylmethan_oh.sh', 'n_2_nitri_1phenil_propane.sh', 'p-o2nc6h4chno2ch3_oh', 'p-o2nc6h4chno2ch3_oh.sh', 'pyrq_meoh', 'pyrq_meoh.sh', 'trj.xyz']\n",
      "c6h5chno2ch3_piperazine 138\n",
      "c6h5chno2ch3_piperidine 138\n",
      "CH2CHCH2NO2_lutidine 114\n",
      "CH2CHCH2NO2_picoline_from_lutidine 106\n",
      "CH2CHCH2NO2_pyridine 98\n",
      "ch32chno2_ch3coo_new 89\n",
      "ch32chno2_pyridine_new 100\n",
      "CH3NO2_ch2clcoo_near_freez 89\n",
      "ch3no2_ch3coo_new 73\n",
      "CH3NO2_H2O_near 52\n",
      "ch3no2_oh 91\n",
      "ch4_oh 19\n",
      "ch4_oh — копия 19\n",
      "m,m-o2n2c6h4chno2ch3_oh 143\n",
      "m-clc6h4chno2ch3_oh 115\n",
      "m-clc6h4chno2ch3_piperidine 154\n",
      "m-o2nc6h4chno2ch3_oh 121\n",
      "m-o2nc6h4chno2ch3_piperazine 159\n",
      "m-o2nc6h4chno2ch3_piperidine 159\n",
      "mcl-morpholine 154\n",
      "p-o2nc6h4chno2ch3_oh 121\n",
      "pyrq_meoh 142\n"
     ]
    }
   ],
   "source": [
    "from ase.io import read\n",
    "import os\n",
    "def get_n_el(mol_xyz):\n",
    "    # Load the .xyz file\n",
    "    mol = read(mol_xyz)\n",
    "\n",
    "    # Get the number of electrons for each atom\n",
    "    num_electrons = [atom.number for atom in mol]\n",
    "\n",
    "    # Calculate the total number of electrons\n",
    "    total_electrons = sum(num_electrons)\n",
    "\n",
    "    #print(total_electrons)\n",
    "    return(total_electrons)\n",
    "\n",
    "dirs = os.listdir(\"proposed_mopac_calc\")\n",
    "print(dirs)\n",
    "for i in dirs:\n",
    "    try:\n",
    "        print(i, get_n_el(f\"proposed_mopac_calc/{i}/start/opted_h2o.xyz\"))\n",
    "    except:\n",
    "        pass"
   ]
  },
  {
   "cell_type": "code",
   "execution_count": null,
   "metadata": {},
   "outputs": [],
   "source": []
  }
 ],
 "metadata": {
  "kernelspec": {
   "display_name": "hack_neft",
   "language": "python",
   "name": "hack_neft"
  },
  "language_info": {
   "codemirror_mode": {
    "name": "ipython",
    "version": 3
   },
   "file_extension": ".py",
   "mimetype": "text/x-python",
   "name": "python",
   "nbconvert_exporter": "python",
   "pygments_lexer": "ipython3",
   "version": "3.12.2"
  }
 },
 "nbformat": 4,
 "nbformat_minor": 2
}
